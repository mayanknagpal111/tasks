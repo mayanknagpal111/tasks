{
 "cells": [
  {
   "cell_type": "markdown",
   "id": "49e9b9ac-3a8e-4921-bb29-e7720e0cc6b3",
   "metadata": {},
   "source": [
    "Q1, Create a vehicle class with an init method having instance variables as name_of_vehicle, max_speed\n",
    "and average_of_vehicle."
   ]
  },
  {
   "cell_type": "code",
   "execution_count": 2,
   "id": "95070f6b-ce10-4a97-be45-c63d85708242",
   "metadata": {},
   "outputs": [
    {
     "name": "stdout",
     "output_type": "stream",
     "text": [
      "Tata Harrier goes to max speed of 200 and gives mileage of 19.3\n"
     ]
    }
   ],
   "source": [
    "class vehicle :\n",
    "    \n",
    "    def __init__(self, name, speed, average) :\n",
    "        self.name_of_vehicle = name\n",
    "        self.max_speed = speed\n",
    "        self.average_of_vehicle = average\n",
    "        \n",
    "\n",
    "car = vehicle(\"Tata Harrier\", 200, 19.3)\n",
    "\n",
    "print(car.name_of_vehicle, \"goes to max speed of\", car.max_speed, \"and gives mileage of\", car.average_of_vehicle)"
   ]
  },
  {
   "cell_type": "code",
   "execution_count": null,
   "id": "d269e780-6616-41ef-8239-b70c32709316",
   "metadata": {},
   "outputs": [],
   "source": []
  },
  {
   "cell_type": "markdown",
   "id": "8be17068-e6ea-4f1a-b625-f79a14d8ac28",
   "metadata": {},
   "source": [
    "Q2. Create a child class car from the vehicle class created in Que 1, which will inherit the vehicle class.\n",
    "Create a method named seating_capacity which takes capacity as an argument and returns the name of\n",
    "the vehicle and its seating capacity."
   ]
  },
  {
   "cell_type": "code",
   "execution_count": 5,
   "id": "59945121-4a67-4fce-9c82-f3f09c469af0",
   "metadata": {},
   "outputs": [
    {
     "data": {
      "text/plain": [
       "('Tata Harrier', 7)"
      ]
     },
     "execution_count": 5,
     "metadata": {},
     "output_type": "execute_result"
    }
   ],
   "source": [
    "class car(vehicle) :\n",
    "    def seating_capacity(self, capacity) :\n",
    "        self.capacity = capacity\n",
    "        return self.name_of_vehicle, self.capacity\n",
    "    \n",
    "c = car(\"Tata Harrier\", 200, 19.3)\n",
    "\n",
    "c.seating_capacity(7)"
   ]
  },
  {
   "cell_type": "code",
   "execution_count": null,
   "id": "d9d6f8e1-55b4-4811-ad91-2d6aaf0aa338",
   "metadata": {},
   "outputs": [],
   "source": []
  },
  {
   "cell_type": "markdown",
   "id": "63ce6513-73a3-4ea6-aea6-b35ab5a6f6b8",
   "metadata": {},
   "source": [
    "Q3. What is multiple inheritance? Write a python code to demonstrate multiple inheritance."
   ]
  },
  {
   "cell_type": "markdown",
   "id": "0675256c-f49e-4d23-b619-56dbda84176c",
   "metadata": {},
   "source": [
    "Multiple Inheritance : In multiple inheritance, one child class can inherit from multiple parent classes. So here is one child class and multiple parent classes."
   ]
  },
  {
   "cell_type": "code",
   "execution_count": 10,
   "id": "de74c877-7aa8-47e7-adea-94edc0321bc3",
   "metadata": {},
   "outputs": [
    {
     "name": "stdout",
     "output_type": "stream",
     "text": [
      "Inside Person class\n",
      "Name: Jessa Age: 28\n",
      "Inside Company class\n",
      "Name: Google location: Atlanta\n",
      "Inside Employee class\n",
      "Salary: 12000 Skill: Machine Learning\n"
     ]
    }
   ],
   "source": [
    "## Multiple Inheritance\n",
    "# Parent class 1\n",
    "class Person:\n",
    "    def person_info(self, name, age):\n",
    "        print('Inside Person class')\n",
    "        print('Name:', name, 'Age:', age)\n",
    "\n",
    "# Parent class 2\n",
    "class Company:\n",
    "    def company_info(self, company_name, location):\n",
    "        print('Inside Company class')\n",
    "        print('Name:', company_name, 'location:', location)\n",
    "\n",
    "# Child class\n",
    "class Employee(Person, Company):\n",
    "    def Employee_info(self, salary, skill):\n",
    "        print('Inside Employee class')\n",
    "        print('Salary:', salary, 'Skill:', skill)\n",
    "\n",
    "emp = Employee()\n",
    "\n",
    "emp.person_info('Jessa', 28)\n",
    "emp.company_info('Google', 'Atlanta')\n",
    "emp.Employee_info(12000, 'Machine Learning')"
   ]
  },
  {
   "cell_type": "code",
   "execution_count": null,
   "id": "94c9c893-c4e2-43fc-be53-26b673d1e8ee",
   "metadata": {},
   "outputs": [],
   "source": []
  },
  {
   "cell_type": "markdown",
   "id": "118c5367-03f2-4dd8-813a-09e999eeb646",
   "metadata": {},
   "source": [
    "Q4. What are getter and setter in python? Create a class and create a getter and a setter method in this\n",
    "class."
   ]
  },
  {
   "cell_type": "markdown",
   "id": "a2472f14-ff79-4ce3-b39a-57ef3dd1827d",
   "metadata": {},
   "source": [
    "We use getters & setters to add validation logic around getting and setting a value and to avoid direct access of a class field i.e. private variables cannot be accessed directly or modified by external user."
   ]
  },
  {
   "cell_type": "code",
   "execution_count": 22,
   "id": "b4b9134e-0e2e-4036-98e2-f16bd7bae86e",
   "metadata": {},
   "outputs": [
    {
     "name": "stdout",
     "output_type": "stream",
     "text": [
      "Sorry, You are minor as your age is 16\n",
      "Great, you are not minor, your age is 22\n"
     ]
    }
   ],
   "source": [
    "class Person1:\n",
    "    def __init__(self, name, age):\n",
    "        self.__name = name\n",
    "        self.set_age(age)\n",
    "        \n",
    "    def set_age(self,age):\n",
    "        if age < 18 :\n",
    "            print(\"Sorry, You are minor as your age is\", age)\n",
    "        else :\n",
    "            self.__age = age\n",
    "        return True\n",
    "    \n",
    "    def get_age(self) :\n",
    "        return self.__age\n",
    "    \n",
    "    \n",
    "p = Person1(\"Mayank\", 16)\n",
    "\n",
    "if p.set_age(22) :\n",
    "    print(\"Great, you are not minor, your age is\", p.get_age())\n",
    "    "
   ]
  },
  {
   "cell_type": "code",
   "execution_count": null,
   "id": "1dcc0fb4-9dbf-469f-87fe-47bae905112e",
   "metadata": {},
   "outputs": [],
   "source": []
  },
  {
   "cell_type": "markdown",
   "id": "1f157a22-8b85-4ca9-a5c1-0da00313f5e6",
   "metadata": {},
   "source": [
    "Q5.What is method overriding in python? Write a python code to demonstrate method overriding."
   ]
  },
  {
   "cell_type": "markdown",
   "id": "15bcb5c4-3f7e-439e-99e7-43776c53672b",
   "metadata": {},
   "source": [
    "When a method in a subclass has the same name, same parameters or signature and same return type(or sub-type) as a method in its super-class, then the method in the subclass is said to override the method in the super-class."
   ]
  },
  {
   "cell_type": "code",
   "execution_count": 1,
   "id": "70040587-b58d-439a-a0a9-8f42c7bfcb6a",
   "metadata": {},
   "outputs": [
    {
     "name": "stdout",
     "output_type": "stream",
     "text": [
      "Inside Parent\n",
      "Inside Child\n"
     ]
    }
   ],
   "source": [
    "class Parent():\n",
    "      \n",
    "    def __init__(self):\n",
    "        self.value = \"Inside Parent\"\n",
    "          \n",
    "    def show(self):\n",
    "        print(self.value)\n",
    "          \n",
    "class Child(Parent):\n",
    "      \n",
    "    def __init__(self):\n",
    "        self.value = \"Inside Child\"\n",
    "          \n",
    "    def show(self):\n",
    "        print(self.value)\n",
    "        \n",
    "p = Parent()\n",
    "c = Child()\n",
    "  \n",
    "p.show()\n",
    "c.show()"
   ]
  },
  {
   "cell_type": "code",
   "execution_count": null,
   "id": "5750d907-89a8-40b6-8aff-50611ffcca35",
   "metadata": {},
   "outputs": [],
   "source": []
  }
 ],
 "metadata": {
  "kernelspec": {
   "display_name": "Python 3 (ipykernel)",
   "language": "python",
   "name": "python3"
  },
  "language_info": {
   "codemirror_mode": {
    "name": "ipython",
    "version": 3
   },
   "file_extension": ".py",
   "mimetype": "text/x-python",
   "name": "python",
   "nbconvert_exporter": "python",
   "pygments_lexer": "ipython3",
   "version": "3.10.8"
  }
 },
 "nbformat": 4,
 "nbformat_minor": 5
}

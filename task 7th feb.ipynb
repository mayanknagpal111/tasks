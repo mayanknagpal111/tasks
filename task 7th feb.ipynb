{
 "cells": [
  {
   "cell_type": "markdown",
   "id": "9cac9845-358a-4b79-8b54-1161d5c2ba1a",
   "metadata": {},
   "source": [
    "Q1. You are writing code for a company. The requirement of the company is that you create a python\n",
    "function that will check whether the password entered by the user is correct or not. The function should\n",
    "take the password as input and return the string “Valid Password” if the entered password follows the\n",
    "below-given password guidelines else it should return “Invalid Password”.\n",
    "\n",
    "Note: 1. The Password should contain at least two uppercase letters and at least two lowercase letters.\n",
    "\n",
    "2. The Password should contain at least a number and three special characters.\n",
    "\n",
    "3. The length of the password should be 10 characters long."
   ]
  },
  {
   "cell_type": "code",
   "execution_count": 20,
   "id": "72a02ca1-fd8a-48a9-afb4-8fad807ef15b",
   "metadata": {},
   "outputs": [
    {
     "data": {
      "text/plain": [
       "'Valid Password'"
      ]
     },
     "execution_count": 20,
     "metadata": {},
     "output_type": "execute_result"
    }
   ],
   "source": [
    "def check_password(password) :\n",
    "    upper, lower, number, special = 0,0,0,0\n",
    "    if len(password) < 10 :\n",
    "        return \"Invalid Password\"\n",
    "    else :\n",
    "        for char in password :\n",
    "            if char.isspace() :\n",
    "                return \"Invalid Password\"\n",
    "            \n",
    "            if char.islower() :\n",
    "                lower += 1\n",
    "            if char.isupper() :\n",
    "                upper += 1\n",
    "            if char.isdigit() :\n",
    "                number += 1\n",
    "            if char.isalnum() != True :\n",
    "                special += 1\n",
    "        \n",
    "        if lower >= 2 and upper >=2 and number > 0 and special >= 3 :\n",
    "            return \"Valid Password\"\n",
    "        else :\n",
    "            return \"Invalid Password\"\n",
    "    \n",
    "check_password(\"AAaa1@#$AA\")"
   ]
  },
  {
   "cell_type": "code",
   "execution_count": null,
   "id": "06170f42-a0c4-4dbc-943e-0e8dc1745018",
   "metadata": {},
   "outputs": [],
   "source": []
  },
  {
   "cell_type": "markdown",
   "id": "38a64325-138d-4441-babf-686480ec05ff",
   "metadata": {},
   "source": [
    "Q2. Solve the below-given questions using at least one of the following:\n",
    "1. Lambda function\n",
    "2. Filter function\n",
    "3. Map function\n",
    "4. List Comprehension\n",
    "\n",
    "Check if the string starts with a particular letter.\n",
    "\n",
    "Check if the string is numeric.\n",
    "\n",
    "Sort a list of tuples having fruit names and their quantity. [(\"mango\",99),(\"orange\",80), (\"grapes\", 1000)]\n",
    "\n",
    "Find the squares of numbers from 1 to 10.\n",
    "\n",
    "Find the cube root of numbers from 1 to 10.\n",
    "\n",
    "Check if a given number is even.\n",
    "\n",
    "Filter odd numbers from the given list.\n",
    "[1,2,3,4,5,6,7,8,9,10]\n",
    "\n",
    "Sort a list of integers into positive and negative integers lists.\n",
    "[1,2,3,4,5,6,-1,-2,-3,-4,-5,0]"
   ]
  },
  {
   "cell_type": "code",
   "execution_count": 33,
   "id": "1bb6e25e-bdf4-427e-96c7-5b218490dd20",
   "metadata": {},
   "outputs": [
    {
     "data": {
      "text/plain": [
       "True"
      ]
     },
     "execution_count": 33,
     "metadata": {},
     "output_type": "execute_result"
    }
   ],
   "source": [
    "## Check if the string starts with a particular letter.\n",
    "\n",
    "def string_starts_with_letter(strng, letter) :\n",
    "    check = lambda x : True if strng[0].lower() == letter.lower() else False\n",
    "    return check(strng)\n",
    "\n",
    "\n",
    "string_starts_with_letter(\"Mayank\", 'm')"
   ]
  },
  {
   "cell_type": "code",
   "execution_count": 41,
   "id": "ac73163d-86a7-4377-a49a-059532621f4e",
   "metadata": {},
   "outputs": [
    {
     "data": {
      "text/plain": [
       "True"
      ]
     },
     "execution_count": 41,
     "metadata": {},
     "output_type": "execute_result"
    }
   ],
   "source": [
    "## Check if the string is numeric.\n",
    "def is_numeric(strng) :\n",
    "    check = lambda x : True if strng.isnumeric() else False\n",
    "    return check(strng)\n",
    "\n",
    "is_numeric(\"2376\")"
   ]
  },
  {
   "cell_type": "code",
   "execution_count": 42,
   "id": "49a12435-89b5-4c4e-85d2-dc18492929a8",
   "metadata": {},
   "outputs": [
    {
     "data": {
      "text/plain": [
       "[('orange', 80), ('mango', 99), ('grapes', 1000)]"
      ]
     },
     "execution_count": 42,
     "metadata": {},
     "output_type": "execute_result"
    }
   ],
   "source": [
    "## Sort a list of tuples having fruit names and their quantity.\n",
    "l = [(\"mango\",99),(\"orange\",80), (\"grapes\", 1000)]\n",
    "l.sort(key = lambda x: x[1])\n",
    "l"
   ]
  },
  {
   "cell_type": "code",
   "execution_count": 52,
   "id": "e60e416a-24ca-414e-8464-779ac4350a44",
   "metadata": {},
   "outputs": [
    {
     "name": "stdout",
     "output_type": "stream",
     "text": [
      "With Map and Lambda [1, 4, 9, 16, 25, 36, 49, 64, 81, 100]\n",
      "With Comprehension [1, 4, 9, 16, 25, 36, 49, 64, 81, 100]\n"
     ]
    }
   ],
   "source": [
    "## Find the squares of numbers from 1 to 10.\n",
    "squares = list(map(lambda x : x**2, [i for i in range(1,11)]))\n",
    "print(\"With Map and Lambda\", squares)\n",
    "## OR we can do\n",
    "result = [x**2 for x in [y for y in range(1,11)]]\n",
    "print(\"With Comprehension\", result)"
   ]
  },
  {
   "cell_type": "code",
   "execution_count": 44,
   "id": "65e57c32-9fce-45b2-b611-26a1a5f43e32",
   "metadata": {},
   "outputs": [
    {
     "data": {
      "text/plain": [
       "[1.0,\n",
       " 1.2599210498948732,\n",
       " 1.4422495703074083,\n",
       " 1.5874010519681994,\n",
       " 1.7099759466766968,\n",
       " 1.8171205928321397,\n",
       " 1.912931182772389,\n",
       " 2.0,\n",
       " 2.080083823051904,\n",
       " 2.154434690031884]"
      ]
     },
     "execution_count": 44,
     "metadata": {},
     "output_type": "execute_result"
    }
   ],
   "source": [
    "## Find the cube root of numbers from 1 to 10.\n",
    "result = [x**(1/3) for x in [y for y in range(1,11)]]\n",
    "result"
   ]
  },
  {
   "cell_type": "code",
   "execution_count": 46,
   "id": "0ead6648-0954-44b3-9132-fc53ce795c61",
   "metadata": {},
   "outputs": [
    {
     "data": {
      "text/plain": [
       "'Even'"
      ]
     },
     "execution_count": 46,
     "metadata": {},
     "output_type": "execute_result"
    }
   ],
   "source": [
    "## Check if a given number is even.\n",
    "\n",
    "check = lambda x : \"Even\" if x % 2 == 0 else \"Odd\"\n",
    "check(16)"
   ]
  },
  {
   "cell_type": "code",
   "execution_count": 48,
   "id": "e59dcebe-50be-45a1-b1f4-7850c914fb04",
   "metadata": {},
   "outputs": [
    {
     "data": {
      "text/plain": [
       "[1, 3, 5, 7, 9]"
      ]
     },
     "execution_count": 48,
     "metadata": {},
     "output_type": "execute_result"
    }
   ],
   "source": [
    "## Filter odd numbers from the given list.\n",
    "l = [1,2,3,4,5,6,7,8,9,10]\n",
    "\n",
    "result = list(filter(lambda x : x % 2 != 0, l))\n",
    "result"
   ]
  },
  {
   "cell_type": "code",
   "execution_count": 56,
   "id": "0cc91b83-ea61-4530-824e-a33be645ecc7",
   "metadata": {},
   "outputs": [
    {
     "name": "stdout",
     "output_type": "stream",
     "text": [
      "Positive [1, 2, 3, 4, 5, 6, 0]\n",
      "Negative [-1, -2, -3, -4, -5]\n"
     ]
    }
   ],
   "source": [
    "## Sort a list of integers into positive and negative integers lists.\n",
    "l = [1,2,3,4,5,6,-1,-2,-3,-4,-5,0]\n",
    "\n",
    "pos, neg = [i for i in l if i>=0 ],[j for j in l if j<0]\n",
    "\n",
    "print(\"Positive\", pos)\n",
    "print(\"Negative\", neg)"
   ]
  },
  {
   "cell_type": "code",
   "execution_count": null,
   "id": "bff58c57-d1fe-4d58-93ea-5326609d85d2",
   "metadata": {},
   "outputs": [],
   "source": []
  }
 ],
 "metadata": {
  "kernelspec": {
   "display_name": "Python 3 (ipykernel)",
   "language": "python",
   "name": "python3"
  },
  "language_info": {
   "codemirror_mode": {
    "name": "ipython",
    "version": 3
   },
   "file_extension": ".py",
   "mimetype": "text/x-python",
   "name": "python",
   "nbconvert_exporter": "python",
   "pygments_lexer": "ipython3",
   "version": "3.10.8"
  }
 },
 "nbformat": 4,
 "nbformat_minor": 5
}

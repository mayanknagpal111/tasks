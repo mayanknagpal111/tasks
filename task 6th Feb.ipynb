{
 "cells": [
  {
   "cell_type": "markdown",
   "id": "2a5f7b37-1510-489f-8811-ee73223a7f96",
   "metadata": {},
   "source": [
    "Q1. Create a function which will take a list as an argument and return the product of all the numbers\n",
    "after creating a flat list.\n",
    "Use the below-given list as an argument for your function.\n",
    "list1 = [1,2,3,4, [44,55,66, True], False, (34,56,78,89,34), {1,2,3,3,2,1}, {1:34, \"key2\": [55, 67, 78, 89], 4: (45,\n",
    "22, 61, 34)}, [56, 'data science'], 'Machine Learning']"
   ]
  },
  {
   "cell_type": "code",
   "execution_count": 32,
   "id": "bf72a9c5-edfd-4f30-b2a9-1d2c719c8885",
   "metadata": {},
   "outputs": [
    {
     "name": "stdout",
     "output_type": "stream",
     "text": [
      "Product of all the numbers in given list is 78718933113238978560\n"
     ]
    }
   ],
   "source": [
    "\n",
    "def product_of_numbers(list_arg) :\n",
    "    prod = 1\n",
    "    for item in list_arg :\n",
    "        if type(item) == dict :\n",
    "            for k,v in item.items() :\n",
    "                if type(k) in (int,float) :\n",
    "                    prod *= k\n",
    "                if type(v) in (int,float) :\n",
    "                    prod *= v\n",
    "        elif type(item) == list or type(item) == tuple or type(item) == set :\n",
    "            for v in item :\n",
    "                if type(v) in (int,float) :\n",
    "                    prod *= v\n",
    "        elif type(item) in (int,float) :\n",
    "            prod *= item\n",
    "            \n",
    "    return prod\n",
    "\n",
    "\n",
    "list1 = [1,2,3,4, [44,55,66, True], False, (34,56,78,89,34), {1,2,3,3,2,1}, {1:34, \"key2\": [55, 67, 78, 89], 4: (45,\n",
    "22, 61, 34)}, [56, 'data science'], 'Machine Learning']\n",
    "result = product_of_numbers(list1)\n",
    "\n",
    "print(\"Product of all the numbers in given list is\", result)"
   ]
  },
  {
   "cell_type": "code",
   "execution_count": null,
   "id": "6c96718a-c3e1-4282-a824-7ace7c20a402",
   "metadata": {},
   "outputs": [],
   "source": []
  },
  {
   "cell_type": "markdown",
   "id": "fb60246f-64a4-42a7-b849-e1653823dcd1",
   "metadata": {},
   "source": [
    "Q2. Write a python program for encrypting a message sent to you by your friend. The logic of encryption\n",
    "should be such that, for a the output should be z. For b, the output should be y. For c, the output should\n",
    "be x respectively. Also, the whitespace should be replaced with a dollar sign. Keep the punctuation\n",
    "marks unchanged.\n",
    "\n",
    "Input Sentence: I want to become a Data Scientist.\n",
    "\n",
    "Encrypt the above input sentence using the program you just created."
   ]
  },
  {
   "cell_type": "code",
   "execution_count": 50,
   "id": "f1787a2e-caea-42b3-bbae-539c54eee145",
   "metadata": {},
   "outputs": [
    {
     "name": "stdout",
     "output_type": "stream",
     "text": [
      "'I want to become a Data Scientist.' will be encrypted as  r$dzmg$gl$yvxlnv$z$wzgz$hxrvmgrhg.\n"
     ]
    }
   ],
   "source": [
    "alphabets = [chr(x) for x in range(ord('a'), ord('z') + 1)]\n",
    "\n",
    "def encrypt_msg(msg) :\n",
    "    msg = msg.lower()\n",
    "    enc_msg = \"\"\n",
    "    for char in msg :\n",
    "        if char in alphabets :\n",
    "            key = alphabets.index(char)\n",
    "            enc_msg += alphabets[(len(alphabets)-1)-key]\n",
    "        elif char == ' ' :\n",
    "            enc_msg += '$'\n",
    "        else :\n",
    "            enc_msg += char\n",
    "    \n",
    "    return enc_msg\n",
    "\n",
    "print(\"'I want to become a Data Scientist.' will be encrypted as \", encrypt_msg(\"I want to become a Data Scientist.\"))"
   ]
  }
 ],
 "metadata": {
  "kernelspec": {
   "display_name": "Python 3 (ipykernel)",
   "language": "python",
   "name": "python3"
  },
  "language_info": {
   "codemirror_mode": {
    "name": "ipython",
    "version": 3
   },
   "file_extension": ".py",
   "mimetype": "text/x-python",
   "name": "python",
   "nbconvert_exporter": "python",
   "pygments_lexer": "ipython3",
   "version": "3.10.8"
  }
 },
 "nbformat": 4,
 "nbformat_minor": 5
}
